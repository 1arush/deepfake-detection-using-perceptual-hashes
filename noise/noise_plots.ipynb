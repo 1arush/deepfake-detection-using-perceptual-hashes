{
  "nbformat": 4,
  "nbformat_minor": 0,
  "metadata": {
    "colab": {
      "provenance": []
    },
    "kernelspec": {
      "name": "python3",
      "display_name": "Python 3"
    },
    "language_info": {
      "name": "python"
    }
  },
  "cells": [
    {
      "cell_type": "code",
      "source": [
        "from google.colab import drive\n",
        "drive.mount('/content/drive')"
      ],
      "metadata": {
        "colab": {
          "base_uri": "https://localhost:8080/"
        },
        "id": "r6jsvpTOihVE",
        "outputId": "10c8e200-f3f2-4931-b9a9-ee2e5b51f4e7"
      },
      "execution_count": 6,
      "outputs": [
        {
          "output_type": "stream",
          "name": "stdout",
          "text": [
            "Mounted at /content/drive\n"
          ]
        }
      ]
    },
    {
      "cell_type": "code",
      "execution_count": 16,
      "metadata": {
        "id": "XN-E0z94gz07"
      },
      "outputs": [],
      "source": [
        "import pandas as pd\n",
        "import numpy as np\n",
        "import matplotlib.pyplot as plt\n",
        "\n",
        "sdf = pd.read_csv('/content/scl_g.csv')\n",
        "pdf = pd.read_csv('/content/py_g.csv')"
      ]
    },
    {
      "cell_type": "code",
      "source": [
        "images = pdf.columns.tolist()\n",
        "noise_levels = range(20, 241, 20)  # Assuming 12 noise levels as in your example\n",
        "\n",
        "for image in images:\n",
        "    img_hash_values = pdf[image]\n",
        "    scala_values = sdf[image]\n",
        "\n",
        "    fig, ax = plt.subplots(figsize=(10, 6))\n",
        "\n",
        "    ind = np.arange(len(noise_levels))  # x locations for groups\n",
        "    width = 0.35  # width of the bars\n",
        "\n",
        "    # Plot Imagehash distances\n",
        "    bars1 = ax.bar(ind - width/2, img_hash_values, width, label='Imagehash')\n",
        "\n",
        "    # Plot Scala distances\n",
        "    bars2 = ax.bar(ind + width/2, scala_values, width, label='Scala')\n",
        "\n",
        "    # Add value labels on top of bars\n",
        "    for bar in bars1:\n",
        "        yval = bar.get_height()\n",
        "        ax.text(bar.get_x() + bar.get_width()/2, yval, round(yval, 2), ha='center', va='bottom')  # va: vertical alignment\n",
        "\n",
        "    for bar in bars2:\n",
        "        yval = bar.get_height()\n",
        "        ax.text(bar.get_x() + bar.get_width()/2, yval, round(yval, 2), ha='center', va='bottom')\n",
        "\n",
        "    name = \"\"\n",
        "    if image.find('o')!=-1:\n",
        "        name+='object '\n",
        "    elif image.find('f')!=-1:\n",
        "        name+='female '\n",
        "    else:\n",
        "        name+='male '\n",
        "\n",
        "    for i in range(1,5):\n",
        "        if image.find(str(i))!=-1:\n",
        "            name+=str(i)\n",
        "            break\n",
        "\n",
        "    # Labels and title\n",
        "    ax.set_xlabel('Noise levels')\n",
        "    ax.set_ylabel('Hamming distance')\n",
        "    ax.set_title(f'Gaussian noise sensitivity for \"{image}\"')\n",
        "    ax.set_xticks(ind)\n",
        "    ax.set_xticklabels(noise_levels)\n",
        "    ax.legend()\n",
        "\n",
        "    plt.savefig(f'/content/drive/MyDrive/deepfake_images/noise_images/{image}_g.png')\n",
        "    print(f'/content/drive/MyDrive/deepfake_images/noise_images/{image}_g.png')\n",
        "    # plt.show()\n",
        "\n",
        "    # Close the plot to avoid memory issues\n",
        "    plt.close()"
      ],
      "metadata": {
        "id": "oEMqULGyhFTQ"
      },
      "execution_count": null,
      "outputs": []
    },
    {
      "cell_type": "markdown",
      "source": [
        "Averages"
      ],
      "metadata": {
        "id": "wUX-lwWOkJq7"
      }
    },
    {
      "cell_type": "code",
      "source": [
        "import pandas as pd\n",
        "import numpy as np\n",
        "import matplotlib.pyplot as plt\n",
        "\n",
        "sdf = pd.read_csv('/content/scl_u.csv')\n",
        "pdf = pd.read_csv('/content/py_u.csv')\n",
        "pdf"
      ],
      "metadata": {
        "id": "uwHUH16dnk7a"
      },
      "execution_count": null,
      "outputs": []
    },
    {
      "cell_type": "code",
      "source": [
        "images = pdf.columns.tolist()\n",
        "obj = [name for name in images if name.find('o')!=-1]\n",
        "face = [name for name in images if name not in obj]"
      ],
      "metadata": {
        "id": "TZ3wbapQkqRX"
      },
      "execution_count": 35,
      "outputs": []
    },
    {
      "cell_type": "code",
      "source": [
        "sdf['obj_avg'] = sdf[obj].mean(axis=1)\n",
        "sdf['face_avg'] = sdf[face].mean(axis=1)\n",
        "\n",
        "pdf['obj_avg'] = pdf[obj].mean(axis=1)\n",
        "pdf['face_avg'] = pdf[face].mean(axis=1)"
      ],
      "metadata": {
        "id": "Ja9SKM37lGuX"
      },
      "execution_count": 36,
      "outputs": []
    },
    {
      "cell_type": "code",
      "source": [
        "noise_levels = range(20, 241, 20)  # Assuming 12 noise levels as in your example\n",
        "\n",
        "for image in ['obj_avg']:\n",
        "    img_hash_values = pdf[image]\n",
        "    scala_values = sdf[image]\n",
        "\n",
        "    fig, ax = plt.subplots(figsize=(10, 6))\n",
        "\n",
        "    ind = np.arange(len(noise_levels))  # x locations for groups\n",
        "    width = 0.35  # width of the bars\n",
        "\n",
        "    # Plot Imagehash distances\n",
        "    bars1 = ax.bar(ind - width/2, img_hash_values, width, label='Imagehash')\n",
        "\n",
        "    # Plot Scala distances\n",
        "    bars2 = ax.bar(ind + width/2, scala_values, width, label='Scala')\n",
        "\n",
        "    # Add value labels on top of bars\n",
        "    for bar in bars1:\n",
        "        yval = bar.get_height()\n",
        "        ax.text(bar.get_x() + bar.get_width()/2, yval, round(yval, 2), ha='center', va='bottom')  # va: vertical alignment\n",
        "\n",
        "    for bar in bars2:\n",
        "        yval = bar.get_height()\n",
        "        ax.text(bar.get_x() + bar.get_width()/2, yval, round(yval, 2), ha='center', va='bottom')\n",
        "\n",
        "    # Labels and title\n",
        "    ax.set_xlabel('Noise levels')\n",
        "    ax.set_ylabel('Average hamming distance')\n",
        "    ax.set_title(f'Uniform noise sensitivity for objects')\n",
        "    ax.set_xticks(ind)\n",
        "    ax.set_xticklabels(noise_levels)\n",
        "    ax.legend()\n",
        "\n",
        "    plt.savefig(f'/content/drive/MyDrive/deepfake_images/noise_images/{image}_u.png')\n",
        "    print(f'/content/drive/MyDrive/deepfake_images/noise_images/{image}_u.png')\n",
        "    # plt.show()\n",
        "\n",
        "    # plt.close()"
      ],
      "metadata": {
        "id": "fMR5JLgShjL1"
      },
      "execution_count": null,
      "outputs": []
    },
    {
      "cell_type": "code",
      "source": [],
      "metadata": {
        "id": "npEDXKI_mKnD"
      },
      "execution_count": null,
      "outputs": []
    }
  ]
}