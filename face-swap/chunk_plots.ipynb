{
  "nbformat": 4,
  "nbformat_minor": 0,
  "metadata": {
    "colab": {
      "provenance": []
    },
    "kernelspec": {
      "name": "python3",
      "display_name": "Python 3"
    },
    "language_info": {
      "name": "python"
    }
  },
  "cells": [
    {
      "cell_type": "code",
      "source": [
        "from google.colab import drive\n",
        "drive.mount('/content/drive')"
      ],
      "metadata": {
        "colab": {
          "base_uri": "https://localhost:8080/"
        },
        "id": "FCggrUAm-7FI",
        "outputId": "6c1291a2-1bdf-4e07-a01c-dce5ca4100e8"
      },
      "execution_count": null,
      "outputs": [
        {
          "output_type": "stream",
          "name": "stdout",
          "text": [
            "Mounted at /content/drive\n"
          ]
        }
      ]
    },
    {
      "cell_type": "code",
      "execution_count": 20,
      "metadata": {
        "id": "2iLv4lqs-uQQ"
      },
      "outputs": [],
      "source": [
        "import pandas as pd\n",
        "import numpy as np\n",
        "import matplotlib.pyplot as plt\n",
        "\n",
        "sdf = pd.read_csv('/content/scl_faceswap.csv')\n",
        "pdf = pd.read_csv('/content/py_faceswap.csv')"
      ]
    },
    {
      "cell_type": "code",
      "source": [
        "pdf"
      ],
      "metadata": {
        "id": "7OowygeTAvr_"
      },
      "execution_count": null,
      "outputs": []
    },
    {
      "cell_type": "code",
      "source": [
        "chunk_levels = list(range(1, 7))\n",
        "\n",
        "from matplotlib.ticker import MaxNLocator\n",
        "\n",
        "def plot_bar_with_annotations(df1, df2, image_name):\n",
        "    # Fetching data for the specified image name from both DataFrames\n",
        "    if image_name in df1.columns and image_name in df2.columns:\n",
        "        l1 = df1[image_name].values\n",
        "        l2 = df2[image_name].values\n",
        "    else:\n",
        "        raise ValueError(f\"Image name '{image_name}' not found in DataFrames.\")\n",
        "\n",
        "    # Number of bars (assuming both lists are of the same length)\n",
        "    N = len(chunk_levels)\n",
        "\n",
        "    # Width of each bar\n",
        "    bar_width = 0.25\n",
        "\n",
        "    # Index values for each group of bars\n",
        "    indices = np.arange(N)\n",
        "\n",
        "    # Create the figure and axis\n",
        "    fig, ax = plt.subplots(figsize=(10, 6))\n",
        "\n",
        "    # Plotting the bars\n",
        "    bar1 = ax.bar(indices, l1, bar_width, label='Imagehash')\n",
        "    bar2 = ax.bar(indices + bar_width, l2, bar_width, label='Scala')\n",
        "\n",
        "    # Adding numbers on top of each bar\n",
        "    for rect1, rect2 in zip(bar1, bar2):\n",
        "        height1 = rect1.get_height()\n",
        "        height2 = rect2.get_height()\n",
        "        ax.annotate(f'{height1}', xy=(rect1.get_x() + rect1.get_width() / 2, height1),\n",
        "                    xytext=(0, 3), textcoords=\"offset points\", ha='center', va='bottom')\n",
        "        ax.annotate(f'{height2}', xy=(rect2.get_x() + rect2.get_width() / 2, height2),\n",
        "                    xytext=(0, 3), textcoords=\"offset points\", ha='center', va='bottom')\n",
        "\n",
        "    # Adding labels, title, and customizing the plot\n",
        "    ax.set_xlabel('Chunking levels')\n",
        "    ax.set_ylabel('Average hamming distance')\n",
        "    # ax.set_title(f'Chunking effectiveness for {image_name}') # general case\n",
        "    ax.set_title(f'Average chunking effectiveness for face-swap')\n",
        "    ax.set_xticks(indices + bar_width / 2)\n",
        "    ax.set_xticklabels(chunk_levels)\n",
        "    ax.legend()\n",
        "    # set for integer y-axis\n",
        "    # ax.yaxis.set_major_locator(MaxNLocator(integer=True))\n",
        "\n",
        "    # Save the plot to a file (PNG format)\n",
        "    plt.tight_layout()\n",
        "\n",
        "    # Full images\n",
        "    # image_name = image_name.replace('object', 'obj')\n",
        "    # plt.savefig(f'/content/chunk_{image_name}.png')\n",
        "\n",
        "    # Average\n",
        "    plt.savefig(f'/content/chunk_avg.png')\n",
        "\n",
        "    # Display the plot\n",
        "    plt.show()"
      ],
      "metadata": {
        "id": "GJdt3SE_-9al"
      },
      "execution_count": 18,
      "outputs": []
    },
    {
      "cell_type": "code",
      "source": [
        "for name in pdf.columns:\n",
        "    if name in pdf.columns and name in sdf.columns:\n",
        "        plot_bar_with_annotations(pdf,sdf,name)\n",
        "    else:\n",
        "        print(f\"messed up with  {name}\")\n",
        "    print(name)"
      ],
      "metadata": {
        "id": "Q5PUdR6E_BH_"
      },
      "execution_count": null,
      "outputs": []
    },
    {
      "cell_type": "code",
      "source": [
        "pdf['avg'] = pdf[[name for name in pdf.columns]].mean(axis=1)\n",
        "sdf['avg'] = sdf[[name for name in sdf.columns]].mean(axis=1)\n",
        "pdf"
      ],
      "metadata": {
        "id": "utsG4L5jA4bz"
      },
      "execution_count": null,
      "outputs": []
    },
    {
      "cell_type": "code",
      "source": [
        "plot_bar_with_annotations(pdf,sdf,'avg')"
      ],
      "metadata": {
        "id": "IIrB7jNQCQwx"
      },
      "execution_count": null,
      "outputs": []
    },
    {
      "cell_type": "code",
      "source": [],
      "metadata": {
        "id": "PxRKDhdUDG0J"
      },
      "execution_count": null,
      "outputs": []
    }
  ]
}