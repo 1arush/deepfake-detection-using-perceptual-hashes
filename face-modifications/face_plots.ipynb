{
  "nbformat": 4,
  "nbformat_minor": 0,
  "metadata": {
    "colab": {
      "provenance": []
    },
    "kernelspec": {
      "name": "python3",
      "display_name": "Python 3"
    },
    "language_info": {
      "name": "python"
    }
  },
  "cells": [
    {
      "cell_type": "code",
      "source": [
        "from google.colab import drive\n",
        "drive.mount('/content/drive')"
      ],
      "metadata": {
        "id": "pwXbvm0TBsf2",
        "colab": {
          "base_uri": "https://localhost:8080/"
        },
        "outputId": "9db65cf5-8a24-406e-dc01-06131b78c72f"
      },
      "execution_count": 33,
      "outputs": [
        {
          "output_type": "stream",
          "name": "stdout",
          "text": [
            "Mounted at /content/drive\n"
          ]
        }
      ]
    },
    {
      "cell_type": "code",
      "source": [
        "# post process\n",
        "cols = [\"eyes\",\"nose\",\"nose_code\",\"lips\",\"lips_code\"]\n",
        "names = ['f1','f2','m1','m2']\n",
        "for name in names:\n",
        "    path = f'/content/{name}_face.csv'\n",
        "    df = pd.read_csv(path)\n",
        "    df_transposed_values = df.T\n",
        "\n",
        "    # Reset index to make the transposed values into columns\n",
        "    df_transposed = df_transposed_values.reset_index(drop=True)\n",
        "\n",
        "    # Add the original column names as rows\n",
        "    df_transposed.columns = cols\n",
        "    df_transposed = df_transposed.reset_index(drop=True)\n",
        "    print(len(df_transposed.columns))\n",
        "    df_transposed.to_csv(f'/content/scl_{name}_face.csv')\n"
      ],
      "metadata": {
        "id": "IBAfkaD1w061"
      },
      "execution_count": null,
      "outputs": []
    },
    {
      "cell_type": "code",
      "execution_count": null,
      "metadata": {
        "id": "2iLv4lqs-uQQ"
      },
      "outputs": [],
      "source": [
        "import pandas as pd\n",
        "import numpy as np\n",
        "import matplotlib.pyplot as plt\n",
        "\n",
        "sdf = pd.read_csv('/content/scl_m1_face.csv')\n",
        "pdf = pd.read_csv('/content/py_m1_face.csv')\n",
        "\n",
        "pdf"
      ]
    },
    {
      "cell_type": "code",
      "source": [
        "import pandas as pd\n",
        "import numpy as np\n",
        "import matplotlib.pyplot as plt\n",
        "\n",
        "chunk_levels = list(range(1, 6))  # Original chunk levels\n",
        "x_labels = [\"UNCROPPED\"] + chunk_levels  # x-axis labels including 'full'\n",
        "\n",
        "def plot_bar_with_annotations(df1, df2, image_name, erk):\n",
        "    # Fetching data for the specified image name from both DataFrames\n",
        "    if image_name in df1.columns and image_name in df2.columns:\n",
        "        l1 = df1[image_name].values\n",
        "        l2 = df2[image_name].values\n",
        "    else:\n",
        "        raise ValueError(f\"Image name '{image_name}' not found in DataFrames.\")\n",
        "\n",
        "    # Number of bars (including 'full' as the first bar)\n",
        "    N = len(x_labels)\n",
        "\n",
        "    # Width of each bar\n",
        "    bar_width = 0.25\n",
        "\n",
        "    # Index values for each group of bars\n",
        "    indices = np.arange(N)\n",
        "\n",
        "    # Create the figure and axis\n",
        "    fig, ax = plt.subplots(figsize=(10, 6))\n",
        "\n",
        "    # Plotting the bars\n",
        "    bar1 = ax.bar(indices - bar_width / 2, l1, bar_width, label='Imagehash')\n",
        "    bar2 = ax.bar(indices + bar_width / 2, l2, bar_width, label='Scala')\n",
        "\n",
        "    # Adding numbers on top of each bar\n",
        "    for rect1, rect2 in zip(bar1, bar2):\n",
        "        height1 = rect1.get_height()\n",
        "        height2 = rect2.get_height()\n",
        "        ax.annotate(f'{height1}', xy=(rect1.get_x() + rect1.get_width() / 2, height1),\n",
        "                    xytext=(0, 3), textcoords=\"offset points\", ha='center', va='bottom')\n",
        "        ax.annotate(f'{height2}', xy=(rect2.get_x() + rect2.get_width() / 2, height2),\n",
        "                    xytext=(0, 3), textcoords=\"offset points\", ha='center', va='bottom')\n",
        "\n",
        "    # Adding labels, title, and customizing the plot\n",
        "    ax.set_xlabel('Chunking levels')\n",
        "    ax.set_ylabel('Average hamming distance')\n",
        "    strname = image_name\n",
        "    if strname.find(\"code\")!=-1:\n",
        "        strname = \"automatic \" + strname.split('_')[0]\n",
        "    if strname[-1]=='s':\n",
        "        strname = strname[:-1]\n",
        "    ax.set_title(f'Detection in {strname} modifications')\n",
        "\n",
        "    # Set x-ticks and labels\n",
        "    ax.set_xticks(indices)\n",
        "    ax.set_xticklabels(x_labels)  # Include 'full' label\n",
        "\n",
        "    ax.legend()\n",
        "\n",
        "    # Save the plot to a file (PNG format)\n",
        "    plt.tight_layout()\n",
        "    plt.savefig(f'/content/drive/MyDrive/plots/avg_{image_name}.png')\n",
        "\n",
        "    # Display the plot\n",
        "    plt.show()"
      ],
      "metadata": {
        "id": "GJdt3SE_-9al"
      },
      "execution_count": 46,
      "outputs": []
    },
    {
      "cell_type": "code",
      "source": [
        "import pandas as pd\n",
        "import os\n",
        "\n",
        "for t in [\"f1\",\"f2\",\"m1\",\"m2\"]:\n",
        "    sdf = pd.read_csv(f'/content/scl_{t}_face.csv')\n",
        "    pdf = pd.read_csv(f'/content/py_{t}_face.csv')\n",
        "    for name in pdf.columns:\n",
        "        if name in pdf.columns and name in sdf.columns:\n",
        "            os.makedirs(f'/content/drive/MyDrive/plots/{t}/',exist_ok=True)\n",
        "            plot_bar_with_annotations(pdf,sdf,name,t)\n",
        "        else:\n",
        "            print(f\"messed up with  {name}\")\n",
        "        print(name)"
      ],
      "metadata": {
        "id": "Q5PUdR6E_BH_"
      },
      "execution_count": null,
      "outputs": []
    },
    {
      "cell_type": "code",
      "source": [
        "p_result = {}\n",
        "s_result = {}\n",
        "for features in [\"eyes\",\"nose\",\"nose_code\",\"lips\",\"lips_code\"]:\n",
        "    arr_p = np.zeros(6)\n",
        "    arr_s = np.zeros(6)\n",
        "    cnt = 0\n",
        "    for t in [\"f1\",\"f2\",\"m1\",\"m2\"]:\n",
        "        cnt += 1\n",
        "        sdf = pd.read_csv(f'/content/scl_{t}_face.csv')\n",
        "        pdf = pd.read_csv(f'/content/py_{t}_face.csv')\n",
        "        arr_p += pdf[features]\n",
        "        arr_s += sdf[features]\n",
        "    arr_p /= cnt\n",
        "    arr_s /= cnt\n",
        "\n",
        "    p_result[features]=arr_p\n",
        "    s_result[features]=arr_s\n",
        "\n",
        "pdf = pd.DataFrame(p_result)\n",
        "sdf = pd.DataFrame(s_result)"
      ],
      "metadata": {
        "id": "utsG4L5jA4bz"
      },
      "execution_count": 38,
      "outputs": []
    },
    {
      "cell_type": "code",
      "source": [
        "for name in pdf.columns:\n",
        "    plot_bar_with_annotations(pdf,sdf,name,-1)"
      ],
      "metadata": {
        "id": "IIrB7jNQCQwx"
      },
      "execution_count": null,
      "outputs": []
    },
    {
      "cell_type": "code",
      "source": [],
      "metadata": {
        "id": "PxRKDhdUDG0J"
      },
      "execution_count": null,
      "outputs": []
    }
  ]
}